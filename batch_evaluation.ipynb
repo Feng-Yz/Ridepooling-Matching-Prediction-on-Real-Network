{
 "cells": [
  {
   "cell_type": "code",
   "execution_count": null,
   "id": "c300b3c9",
   "metadata": {},
   "outputs": [],
   "source": [
    "from settings import params\n",
    "import pandas as pd\n",
    "import numpy as np\n",
    "import pickle\n",
    "import matplotlib.pyplot as plt\n",
    "import seaborn as sns"
   ]
  },
  {
   "cell_type": "code",
   "execution_count": null,
   "id": "ed5e0bf5",
   "metadata": {},
   "outputs": [],
   "source": [
    "sns.set()"
   ]
  },
  {
   "cell_type": "code",
   "execution_count": null,
   "id": "f48a248a",
   "metadata": {},
   "outputs": [],
   "source": [
    "# 加载局部和全局预测结果\n",
    "global_result = pd.read_csv(\"./result/simu_stat.csv\", index_col=\"OD_id\").loc[:, [\"ride_distance\", \"shared_distance\"]]\n",
    "local_result = pd.read_csv(\"./result/simu_stat_batch.csv\", index_col=\"OD_id\").loc[:, [\"ride_distance\", \"shared_distance\"]]"
   ]
  },
  {
   "cell_type": "code",
   "execution_count": null,
   "id": "c736de28",
   "metadata": {},
   "outputs": [],
   "source": [
    "global_result.loc[:, \"total_distance\"] = global_result.loc[:, \"ride_distance\"] - global_result.loc[:, \"shared_distance\"]/2\n",
    "local_result.loc[:, \"total_distance\"] = local_result.loc[:, \"ride_distance\"] - local_result.loc[:, \"shared_distance\"]/2\n",
    "absolute_error = (global_result - local_result)\n",
    "relative_error = absolute_error / global_result"
   ]
  },
  {
   "cell_type": "code",
   "execution_count": null,
   "id": "487f1637",
   "metadata": {},
   "outputs": [],
   "source": [
    "absolute_error.describe()"
   ]
  },
  {
   "cell_type": "code",
   "execution_count": null,
   "id": "651814c8",
   "metadata": {},
   "outputs": [],
   "source": [
    "relative_error.describe()"
   ]
  },
  {
   "cell_type": "code",
   "execution_count": null,
   "id": "6d4485f5",
   "metadata": {},
   "outputs": [],
   "source": [
    "plt.figure(figsize=(2.4, 4.8), dpi=300)\n",
    "plt.ylabel(\"Absolute Difference (m)\")\n",
    "sns.violinplot(y=100*(absolute_error.iloc[:, 2]).values)\n",
    "plt.xlabel(\"Total Distance\")\n",
    "plt.savefig(\"result/abs_total_batch_10min.png\", dpi=300, bbox_inches = \"tight\")"
   ]
  },
  {
   "cell_type": "code",
   "execution_count": null,
   "id": "6d4485f5",
   "metadata": {},
   "outputs": [],
   "source": [
    "plt.figure(figsize=(2.4, 4.8), dpi=300)\n",
    "plt.ylabel(\"Relative Difference (%)\")\n",
    "sns.violinplot(y=100*(relative_error.iloc[:, 2]).values)\n",
    "plt.xlabel(\"Total Distance\")\n",
    "plt.savefig(\"result/rel_total_batch_10min.png\", dpi=300, bbox_inches = \"tight\")"
   ]
  },
  {
   "cell_type": "code",
   "execution_count": null,
   "id": "14a3fdc5",
   "metadata": {},
   "outputs": [],
   "source": [
    "global_result = pd.read_csv(\"./result/simu_log.csv\", index_col=\"passenger_id\")\n",
    "global_result = global_result.loc[:, [\"ride_distance\", \"shared_distance\"]]\n",
    "local_result = pd.read_csv(\"./result/simu_log_batch.csv\", index_col=\"passenger_id\")\n",
    "local_result = local_result.loc[:, [\"ride_distance\", \"shared_distance\"]]"
   ]
  },
  {
   "cell_type": "code",
   "execution_count": null,
   "id": "3cffd435",
   "metadata": {},
   "outputs": [],
   "source": [
    "result = pd.concat([global_result, local_result], axis=1, join=\"inner\")"
   ]
  },
  {
   "cell_type": "code",
   "execution_count": null,
   "id": "4b8a5a61",
   "metadata": {},
   "outputs": [],
   "source": [
    "result"
   ]
  },
  {
   "cell_type": "code",
   "execution_count": null,
   "id": "8cbd30bd",
   "metadata": {},
   "outputs": [],
   "source": [
    "stat = result.iloc[500:, :].sum()"
   ]
  },
  {
   "cell_type": "code",
   "execution_count": null,
   "id": "c611bb42",
   "metadata": {},
   "outputs": [],
   "source": [
    "stat[0] - stat[1]/2"
   ]
  },
  {
   "cell_type": "code",
   "execution_count": null,
   "id": "c611bb42",
   "metadata": {},
   "outputs": [],
   "source": [
    "stat[1]"
   ]
  },
  {
   "cell_type": "code",
   "execution_count": null,
   "id": "0669c145",
   "metadata": {},
   "outputs": [],
   "source": [
    "stat[2] - stat[3]/2"
   ]
  },
  {
   "cell_type": "code",
   "execution_count": null,
   "id": "0669c145",
   "metadata": {},
   "outputs": [],
   "source": [
    "stat[3]"
   ]
  }
 ],
 "metadata": {
  "interpreter": {
   "hash": "c997d5212fa9eab3aba80cbeb20637263d59b9ffeac43d30979c9f220eff6ec8"
  },
  "kernelspec": {
   "display_name": "Python 3.8.11 ('simulation')",
   "language": "python",
   "name": "python3"
  },
  "language_info": {
   "codemirror_mode": {
    "name": "ipython",
    "version": 3
   },
   "file_extension": ".py",
   "mimetype": "text/x-python",
   "name": "python",
   "nbconvert_exporter": "python",
   "pygments_lexer": "ipython3",
   "version": "3.8.11"
  }
 },
 "nbformat": 4,
 "nbformat_minor": 5
}
