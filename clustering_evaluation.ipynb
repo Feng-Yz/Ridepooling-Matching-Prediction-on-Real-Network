{
 "cells": [
  {
   "cell_type": "code",
   "execution_count": null,
   "id": "c300b3c9",
   "metadata": {},
   "outputs": [],
   "source": [
    "from settings import params\n",
    "import pandas as pd\n",
    "import numpy as np\n",
    "import pickle\n",
    "import matplotlib.pyplot as plt\n",
    "import seaborn as sns"
   ]
  },
  {
   "cell_type": "code",
   "execution_count": null,
   "id": "ed5e0bf5",
   "metadata": {},
   "outputs": [],
   "source": [
    "sns.set()\n",
    "# sns.set_theme(style=\"whitegrid\")\n",
    "# plt.rcParams['text.usetex'] = True\n",
    "# plt.rcParams[\"font.family\"] = 'Arial Unicode MS'"
   ]
  },
  {
   "cell_type": "code",
   "execution_count": null,
   "id": "407fc3e1",
   "metadata": {},
   "outputs": [],
   "source": [
    "# 该单元格和下面一个单元格为了生成相关的OD.pickle文件\n",
    "cluster_id = 0"
   ]
  },
  {
   "cell_type": "code",
   "execution_count": null,
   "id": "63dc334e",
   "metadata": {},
   "outputs": [],
   "source": [
    "OD_data = pd.read_csv(\"./clusters/cluster_\" + str(cluster_id) + \".csv\")  # OD文件\n",
    "OD_num = OD_data.shape[0]  # OD数\n",
    "OD_dict = dict()\n",
    "\n",
    "for i in range(OD_num):\n",
    "    OD_dict[int(OD_data.iloc[i].loc[\"OD_id\"])] = [int(OD_data.iloc[i].loc[\"origin_id\"]), int(OD_data.iloc[i].loc[\"destination_id\"]), OD_data.iloc[i].loc[\"lambda\"]]  # 列表[起点id，终点id，lambda]\n",
    "f = open('tmp/OD.pickle', 'wb')\n",
    "pickle.dump(OD_dict, f)\n",
    "f.close()\n",
    "cluster_id += 1"
   ]
  },
  {
   "cell_type": "code",
   "execution_count": null,
   "id": "f48a248a",
   "metadata": {},
   "outputs": [],
   "source": [
    "# 加载局部和全局预测结果\n",
    "global_result = pd.read_csv(\"./result/predict_result.csv\", index_col=\"OD_id\")\n",
    "local_result = pd.read_csv(\"./result/simu_stat.csv\", index_col=\"OD_id\")\n",
    "# local_result = pd.DataFrame()\n",
    "# for i in range(4): # Cluster数\n",
    "#     df = pd.read_csv(\"./clusters/predict_result_\" + str(i) + \".csv\", index_col=\"OD_id\")\n",
    "#     local_result = local_result.append(df)"
   ]
  },
  {
   "cell_type": "code",
   "execution_count": null,
   "id": "1a0fdcc2",
   "metadata": {},
   "outputs": [],
   "source": [
    "global_result_chosen = global_result.loc[local_result.index, :]"
   ]
  },
  {
   "cell_type": "code",
   "execution_count": null,
   "id": "07efc356",
   "metadata": {},
   "outputs": [],
   "source": [
    "# Optional，可根据需求筛选OD\n",
    "global_result_chosen = global_result_chosen.sort_values(\"ride_distance\", ascending=True)[:2000]\n",
    "local_result = local_result.loc[global_result_chosen.index, :]"
   ]
  },
  {
   "cell_type": "code",
   "execution_count": null,
   "id": "c736de28",
   "metadata": {},
   "outputs": [],
   "source": [
    "absolute_error = np.abs(global_result_chosen - local_result)\n",
    "relative_error = absolute_error / global_result_chosen"
   ]
  },
  {
   "cell_type": "code",
   "execution_count": null,
   "id": "487f1637",
   "metadata": {},
   "outputs": [],
   "source": [
    "absolute_error = absolute_error.loc[:, [\"matching_prob\", \"ride_distance\", \"detour_distance\", \"shared_distance\"]]\n",
    "absolute_error.describe()"
   ]
  },
  {
   "cell_type": "code",
   "execution_count": null,
   "id": "651814c8",
   "metadata": {},
   "outputs": [],
   "source": [
    "relative_error = relative_error.loc[:, [\"matching_prob\", \"ride_distance\", \"detour_distance\", \"shared_distance\"]]\n",
    "relative_error.describe()"
   ]
  },
  {
   "cell_type": "code",
   "execution_count": null,
   "id": "b84b0a21",
   "metadata": {},
   "outputs": [],
   "source": [
    "# 用于显示某项指标的分布\n",
    "plt.figure(dpi=300)\n",
    "plt.hist(global_result_chosen.loc[:, \"shared_distance\"] / 1000, bins=25)\n",
    "plt.ylabel(\"Number of OD Pairs\")\n",
    "plt.xlabel(\"Shared Distance of OD Pairs (km)\")\n",
    "plt.savefig(\"result/shared_distance_distribution.png\", dpi=300, bbox_inches = \"tight\")"
   ]
  },
  {
   "cell_type": "code",
   "execution_count": null,
   "id": "5344c478",
   "metadata": {},
   "outputs": [],
   "source": [
    "# 用于查看误差排序后的结果\n",
    "relative_error.sort_values(\"shared_distance\", ascending=False)[:204]"
   ]
  },
  {
   "cell_type": "code",
   "execution_count": null,
   "id": "bb900d74",
   "metadata": {},
   "outputs": [],
   "source": [
    "# 用于查看误差较大的一些OD的情况\n",
    "large_index = relative_error.sort_values(\"shared_distance\", ascending=False)[:204].index\n",
    "plt.hist(global_result_chosen.loc[large_index, \"ride_distance\"], bins=25)"
   ]
  },
  {
   "cell_type": "code",
   "execution_count": null,
   "id": "b101633f",
   "metadata": {},
   "outputs": [],
   "source": [
    "# 用于查看有较大误差的OD\n",
    "np.argmax(relative_error[\"shared_distance\"], axis=0)"
   ]
  },
  {
   "cell_type": "code",
   "execution_count": null,
   "id": "b1f6c6b8",
   "metadata": {},
   "outputs": [],
   "source": [
    "global_result_chosen.iloc[286, :]"
   ]
  },
  {
   "cell_type": "code",
   "execution_count": null,
   "id": "de193cd3",
   "metadata": {},
   "outputs": [],
   "source": [
    "local_result.iloc[286, :]"
   ]
  },
  {
   "cell_type": "code",
   "execution_count": null,
   "id": "8e93b186",
   "metadata": {},
   "outputs": [],
   "source": [
    "# 作小提琴图\n",
    "pw_error = 100 * np.sort(relative_error.iloc[:, 0])\n",
    "ew_error = 100 * np.sort(relative_error.iloc[:, 1])\n",
    "lw_error = 100 * np.sort(relative_error.iloc[:, 2])\n",
    "plt.figure(figsize=(6.4 * 3, 6.4), dpi=200)\n",
    "plt.violinplot([pw_error[:], ew_error[:], lw_error[:]], positions=[0, 2, 4], showmeans=True, showextrema=True, showmedians=True, widths=2)\n",
    "plt.xticks(np.arange(3) * 2, ['pw', 'lw', 'ew'])\n",
    "plt.ylabel(\"Relative error /%\")\n",
    "plt.show()"
   ]
  },
  {
   "cell_type": "code",
   "execution_count": null,
   "id": "6d4485f5",
   "metadata": {},
   "outputs": [],
   "source": [
    "plt.figure(figsize=(2.4, 4.8), dpi=300)\n",
    "plt.ylabel(\"Relative Error (%)\")\n",
    "sns.violinplot(y=100*(relative_error.iloc[:, 0]).values)\n",
    "plt.xlabel(\"Matching Probability\")\n",
    "plt.savefig(\"result/rel_p_error_rand.png\", dpi=300, bbox_inches = \"tight\")"
   ]
  },
  {
   "cell_type": "code",
   "execution_count": null,
   "id": "6d4485f5",
   "metadata": {},
   "outputs": [],
   "source": [
    "plt.figure(figsize=(2.4, 4.8), dpi=300)\n",
    "plt.ylabel(\"Absolute Error (%)\")\n",
    "sns.violinplot(y=100*(absolute_error.iloc[:, 0]).values)\n",
    "plt.xlabel(\"Matching Probability\")\n",
    "plt.savefig(\"result/abs_p_error_rand.png\", dpi=300, bbox_inches = \"tight\")"
   ]
  },
  {
   "cell_type": "code",
   "execution_count": null,
   "id": "6d4485f5",
   "metadata": {},
   "outputs": [],
   "source": [
    "plt.figure(figsize=(2.4, 4.8), dpi=300)\n",
    "plt.ylabel(\"Relative Error (%)\")\n",
    "sns.violinplot(y=100*(relative_error.iloc[:, 1]).values)\n",
    "plt.xlabel(\"Ride Distance\")\n",
    "plt.savefig(\"result/rel_l_error_rand.png\", dpi=300, bbox_inches = \"tight\")"
   ]
  },
  {
   "cell_type": "code",
   "execution_count": null,
   "id": "6d4485f5",
   "metadata": {},
   "outputs": [],
   "source": [
    "plt.figure(figsize=(2.4, 4.8), dpi=300)\n",
    "plt.ylabel(\"Absolute Error (m)\")\n",
    "sns.violinplot(y=1*(absolute_error.iloc[:, 1]).values)\n",
    "plt.xlabel(\"Ride Distance\")\n",
    "plt.savefig(\"result/abs_l_error_rand.png\", dpi=300, bbox_inches = \"tight\")"
   ]
  },
  {
   "cell_type": "code",
   "execution_count": null,
   "id": "6d4485f5",
   "metadata": {},
   "outputs": [],
   "source": [
    "plt.figure(figsize=(2.4, 4.8), dpi=300)\n",
    "plt.ylabel(\"Relative Error (%)\")\n",
    "sns.violinplot(y=100*(relative_error.iloc[:, 3]).values)\n",
    "plt.xlabel(\"Shared Distance\")\n",
    "plt.savefig(\"result/rel_e_error_rand.png\", dpi=300, bbox_inches = \"tight\")"
   ]
  },
  {
   "cell_type": "code",
   "execution_count": null,
   "id": "6d4485f5",
   "metadata": {},
   "outputs": [],
   "source": [
    "plt.figure(figsize=(2.4, 4.8), dpi=300)\n",
    "plt.ylabel(\"Absolute Error (m)\")\n",
    "sns.violinplot(y=1*(absolute_error.iloc[:, 3]).values)\n",
    "plt.xlabel(\"Shared Distance\")\n",
    "plt.savefig(\"result/abs_e_error_rand.png\", dpi=300, bbox_inches = \"tight\")"
   ]
  },
  {
   "cell_type": "code",
   "execution_count": null,
   "id": "3ef07089",
   "metadata": {},
   "outputs": [],
   "source": [
    "plt.figure(figsize=(14.4, 4.8))\n",
    "plt.subplot(241)\n",
    "plt.ylabel(\"绝对误差/%\")\n",
    "plt.violinplot(100*absolute_error.iloc[:, 0])\n",
    "plt.xticks([1], [\"匹配成功率\"])\n",
    "plt.subplot(242)\n",
    "plt.ylabel(\"绝对误差/m\")\n",
    "plt.violinplot(absolute_error.iloc[:, 1])\n",
    "plt.xticks([1], [\"行驶里程\"])\n",
    "plt.subplot(243)\n",
    "plt.ylabel(\"绝对误差/m\")\n",
    "plt.violinplot(absolute_error.iloc[:, 2])\n",
    "plt.xticks([1], [\"绕行里程\"])\n",
    "plt.subplot(244)\n",
    "plt.ylabel(\"绝对误差/m\")\n",
    "plt.violinplot(absolute_error.iloc[:, 3])\n",
    "plt.xticks([1], [\"共乘里程\"])\n",
    "plt.subplot(245)\n",
    "plt.ylabel(\"相对误差/%\")\n",
    "plt.violinplot(100*relative_error.iloc[:, 0])\n",
    "plt.xticks([1], [\"匹配成功率\"])\n",
    "plt.subplot(246)\n",
    "plt.ylabel(\"相对误差/%\")\n",
    "plt.violinplot(100*relative_error.iloc[:, 1])\n",
    "plt.xticks([1], [\"行驶里程\"])\n",
    "plt.subplot(247)\n",
    "plt.ylabel(\"相对误差/%\")\n",
    "plt.violinplot(100*relative_error.iloc[:, 2])\n",
    "plt.xticks([1], [\"绕行里程\"])\n",
    "plt.subplot(248)\n",
    "plt.ylabel(\"相对误差/%\")\n",
    "plt.violinplot(100*relative_error.iloc[:, 3])\n",
    "plt.xticks([1], [\"共乘里程\"])\n",
    "plt.show()"
   ]
  },
  {
   "cell_type": "code",
   "execution_count": null,
   "id": "ffe2c185",
   "metadata": {},
   "outputs": [],
   "source": [
    "plt.figure(figsize=(14.4, 4.8))\n",
    "plt.subplot(241)\n",
    "plt.ylabel(\"绝对误差/%\")\n",
    "plt.boxplot(100*absolute_error.iloc[:, 0])\n",
    "plt.xticks([1], [\"匹配成功率\"])\n",
    "plt.subplot(242)\n",
    "plt.ylabel(\"绝对误差/m\")\n",
    "plt.boxplot(absolute_error.iloc[:, 1])\n",
    "plt.xticks([1], [\"行驶里程\"])\n",
    "plt.subplot(243)\n",
    "plt.ylabel(\"绝对误差/m\")\n",
    "plt.boxplot(absolute_error.iloc[:, 2])\n",
    "plt.xticks([1], [\"绕行里程\"])\n",
    "plt.subplot(244)\n",
    "plt.ylabel(\"绝对误差/m\")\n",
    "plt.boxplot(absolute_error.iloc[:, 3])\n",
    "plt.xticks([1], [\"共乘里程\"])\n",
    "plt.subplot(245)\n",
    "plt.ylabel(\"相对误差/%\")\n",
    "plt.boxplot(100*relative_error.iloc[:, 0])\n",
    "plt.xticks([1], [\"匹配成功率\"])\n",
    "plt.subplot(246)\n",
    "plt.ylabel(\"相对误差/%\")\n",
    "plt.boxplot(100*relative_error.iloc[:, 1])\n",
    "plt.xticks([1], [\"行驶里程\"])\n",
    "plt.subplot(247)\n",
    "plt.ylabel(\"相对误差/%\")\n",
    "plt.boxplot(100*relative_error.iloc[:, 2])\n",
    "plt.xticks([1], [\"绕行里程\"])\n",
    "plt.subplot(248)\n",
    "plt.ylabel(\"相对误差/%\")\n",
    "plt.boxplot(100*relative_error.iloc[:, 3])\n",
    "plt.xticks([1], [\"共乘里程\"])\n",
    "plt.show()"
   ]
  },
  {
   "cell_type": "code",
   "execution_count": null,
   "id": "a54c15a3",
   "metadata": {},
   "outputs": [],
   "source": [
    "OD_data = pd.read_csv(\"data/OD.csv\", index_col=0)\n",
    "# OD_data.loc[:, \"lambda\"] += (np.random.random_sample(OD_data.shape[0]) * (0.5 - (-0.5)) - 0.5) * OD_data.loc[:, \"lambda\"] # 用于给需求一定波动"
   ]
  },
  {
   "cell_type": "code",
   "execution_count": null,
   "id": "1217ff33",
   "metadata": {},
   "outputs": [],
   "source": [
    "OD_data.to_csv(\"data/OD.csv\")"
   ]
  },
  {
   "cell_type": "code",
   "execution_count": null,
   "id": "7cac313c",
   "metadata": {},
   "outputs": [],
   "source": [
    "# 随机将OD进行分组\n",
    "rand_ints = np.random.choice(np.arange(OD_data.shape[0]), OD_data.shape[0], False)\n",
    "num_of_clusters = [1997,3691,2521,1784]\n",
    "total = 0\n",
    "for i in range(len(num_of_clusters)):\n",
    "    cluster = OD_data.iloc[rand_ints[total: total + num_of_clusters[i]], :]\n",
    "    total += num_of_clusters[0]\n",
    "    cluster.to_csv(\"clusters/cluster_\" + str(i) + \".csv\")"
   ]
  },
  {
   "cell_type": "code",
   "execution_count": null,
   "id": "233a2e07",
   "metadata": {},
   "outputs": [],
   "source": [
    "plt.figure(dpi=300)\n",
    "sns.displot(OD_data.loc[:, \"lambda\"], kde=True)\n",
    "plt.ylabel(\"Number of OD Pairs\")\n",
    "plt.xlabel(\"Arrival Rate of the Orders (#/min)\")\n",
    "plt.savefig(\"result/arrival_rate_distribution.png\", dpi=300)"
   ]
  },
  {
   "cell_type": "code",
   "execution_count": null,
   "id": "a00eb0f5",
   "metadata": {},
   "outputs": [],
   "source": [
    "with open(\"tmp/shortest_path.pickle\", 'rb') as f:\n",
    "    path_dict: dict = pickle.load(f)\n",
    "distance = {}\n",
    "for id, path in path_dict.items():\n",
    "    distance[id] = path[-1]\n",
    "dist_df = pd.DataFrame.from_dict(distance, orient=\"index\")"
   ]
  },
  {
   "cell_type": "code",
   "execution_count": null,
   "id": "31ec487b",
   "metadata": {},
   "outputs": [],
   "source": [
    "plt.figure(dpi=300)\n",
    "sns.displot(dist_df.iloc[:, 0] / 1000, kde=True)\n",
    "plt.ylabel(\"Number of OD Pairs\")\n",
    "plt.xlabel(\"Ride Distance of OD Pairs (km)\")\n",
    "plt.xticks(np.arange(0, 180, step=15))\n",
    "plt.savefig(\"result/ride_distance_distribution.png\", dpi=300)"
   ]
  }
 ],
 "metadata": {
  "interpreter": {
   "hash": "c997d5212fa9eab3aba80cbeb20637263d59b9ffeac43d30979c9f220eff6ec8"
  },
  "kernelspec": {
   "display_name": "Python 3.8.11 ('simulation')",
   "language": "python",
   "name": "python3"
  },
  "language_info": {
   "codemirror_mode": {
    "name": "ipython",
    "version": 3
   },
   "file_extension": ".py",
   "mimetype": "text/x-python",
   "name": "python",
   "nbconvert_exporter": "python",
   "pygments_lexer": "ipython3",
   "version": "3.8.11"
  }
 },
 "nbformat": 4,
 "nbformat_minor": 5
}
